{
 "cells": [
  {
   "cell_type": "code",
   "execution_count": 1,
   "metadata": {},
   "outputs": [],
   "source": [
    "using JuMP\n",
    "using Gurobi\n",
    "using Printf"
   ]
  },
  {
   "cell_type": "markdown",
   "metadata": {},
   "source": [
    "### Objective\n",
    "> Choose one item from each class and assign it to a knapsack os that the overall profit is maximized while repspecting the capacity on the with for each knapsack. **Translated to supermarket relation: Chose one length (item) for each department (class) and assigt it to a fixture (knapsack) such that the overall profit is maximized while respecting the capacity(length) of the fixture.**\n",
    "\n",
    "##### Data\n",
    "* $m$ Number of fixtures with size $c_i$\n",
    "* $n$ Number of departments with various choices $N_j$\n",
    "* $k \\in N_j$ choice represents space allocations (15 in total)\n",
    "* $w_{jk}$ size of department $j$ having choice $k \\in N_j$\n",
    "* $M_{ij}$ be the set of mandatory fixtures for department $j$ ($|M_j|\\leq 1$) 1 if mandatory\n",
    "* $F_{ij}$ be the set of forbidden fixtures for department $j$ ($|M_j|\\leq 1$) 1 if forbidden"
   ]
  },
  {
   "cell_type": "code",
   "execution_count": null,
   "metadata": {},
   "outputs": [],
   "source": [
    "# Data\n",
    "\n",
    "SM = 50 # Big M (the largest cap is 45)\n",
    "\n",
    "M = # no of fixtures\n",
    "N = # no of departments\n",
    "K = # no of choices?\n"
   ]
  },
  {
   "cell_type": "markdown",
   "metadata": {},
   "source": [
    "###### Define variables\n",
    "* $x_{ijk}$: Binary decision variable - 1 if fisture i contains department j for choice k\n",
    " "
   ]
  },
  {
   "cell_type": "code",
   "execution_count": null,
   "metadata": {},
   "outputs": [],
   "source": [
    "# Variables\n"
   ]
  },
  {
   "cell_type": "markdown",
   "metadata": {},
   "source": [
    "#### Define MIP model"
   ]
  },
  {
   "cell_type": "code",
   "execution_count": null,
   "metadata": {},
   "outputs": [],
   "source": [
    "\n",
    "m = Model(GLPK.Optimizer)\n",
    "\n",
    "n = 5 # no ingredients\n",
    "b = 10 # max capacity\n",
    "@variable(m, 0<= x[1:n] <=1)  # Relaxere (fjerner binary  constraint)\n",
    "#@variable(m, x[1:n], Bin) \n",
    "\n",
    "@objective(m, Max, sum(p[i]*x[i] for i =1:n))\n",
    " \n",
    "@constraint(m, sum(w[i]*x[i] for i=1:n) <=b)"
   ]
  },
  {
   "cell_type": "code",
   "execution_count": null,
   "metadata": {},
   "outputs": [],
   "source": []
  },
  {
   "cell_type": "code",
   "execution_count": null,
   "metadata": {},
   "outputs": [],
   "source": []
  },
  {
   "cell_type": "code",
   "execution_count": null,
   "metadata": {},
   "outputs": [],
   "source": [
    "# Print \n",
    "print(m)\n",
    "optimize!(m)\n",
    "println(\"Termination status: $(termination_status(m))\")\n",
    "if termination_status(m) == MOI.OPTIMAL\n",
    "    println(\"Optimal objective value: $(objective_value(m))\")\n",
    "    for ci = 1:n # to\n",
    "\n",
    "        println(\"x values: \",ci,\"  \", value(x[ci]))\n",
    "        # @printf \"objective = %0.2f\\n\"  objective_value(shortest_path)\n",
    "\n",
    "    end\n",
    "\n",
    "\n",
    "\n",
    "else\n",
    "    println(\"No optimal solution available\")\n",
    "end\n"
   ]
  },
  {
   "cell_type": "code",
   "execution_count": null,
   "metadata": {},
   "outputs": [],
   "source": []
  }
 ],
 "metadata": {
  "kernelspec": {
   "display_name": "Julia 1.7.2",
   "language": "julia",
   "name": "julia-1.7"
  },
  "language_info": {
   "file_extension": ".jl",
   "mimetype": "application/julia",
   "name": "julia",
   "version": "1.7.2"
  },
  "orig_nbformat": 4
 },
 "nbformat": 4,
 "nbformat_minor": 2
}
